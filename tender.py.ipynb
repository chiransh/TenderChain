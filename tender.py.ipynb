{
 "cells": [
  {
   "cell_type": "code",
   "execution_count": 252,
   "metadata": {},
   "outputs": [
    {
     "name": "stdout",
     "output_type": "stream",
     "text": [
      "(2448, 3264)\n",
      "125.08327382812499\n"
     ]
    },
    {
     "data": {
      "text/plain": [
       "<matplotlib.image.AxesImage at 0x7fb0860f8410>"
      ]
     },
     "execution_count": 252,
     "metadata": {},
     "output_type": "execute_result"
    }
   ],
   "source": [
    "from skimage.io import imread\n",
    "from skimage.filters import threshold_otsu\n",
    "import matplotlib.pyplot as plt\n",
    "import numpy as np\n",
    "import cv2\n",
    "car_image_plain = imread(\"/home/chiransh/Downloads/IMG_car.JPG\")\n",
    "car_image = imread(\"/home/chiransh/Downloads/IMG_car.JPG\", as_grey=True)\n",
    "# it should be a 2 dimensional array\n",
    "print(car_image.shape)\n",
    "\n",
    "# the next line is not compulsory however, a grey scale pixel\n",
    "# in skimage ranges between 0 & 1. multiplying it with 255\n",
    "# will make it range between 0 & 255 (something we can relate better with\n",
    "\n",
    "gray_car_image = car_image * 255\n",
    "fig, (ax1, ax2,ax3) = plt.subplots(1, 3)\n",
    "ax1.imshow(gray_car_image, cmap=\"gray\")\n",
    "threshold_value = threshold_otsu(gray_car_image)\n",
    "print threshold_value\n",
    "binary_car_image = gray_car_image > threshold_value\n",
    "ax2.imshow(binary_car_image, cmap=\"gray\")\n",
    "gaussian_img=cv2.GaussianBlur(gray_car_image, (5,5), 0)\n",
    "ax3.imshow(gaussian_img, cmap=\"gray\")\n"
   ]
  },
  {
   "cell_type": "code",
   "execution_count": 253,
   "metadata": {},
   "outputs": [],
   "source": [
    "import pandas as pd\n",
    "import numpy as np"
   ]
  },
  {
   "cell_type": "code",
   "execution_count": 254,
   "metadata": {},
   "outputs": [
    {
     "data": {
      "text/html": [
       "<div>\n",
       "<style scoped>\n",
       "    .dataframe tbody tr th:only-of-type {\n",
       "        vertical-align: middle;\n",
       "    }\n",
       "\n",
       "    .dataframe tbody tr th {\n",
       "        vertical-align: top;\n",
       "    }\n",
       "\n",
       "    .dataframe thead th {\n",
       "        text-align: right;\n",
       "    }\n",
       "</style>\n",
       "<table border=\"1\" class=\"dataframe\">\n",
       "  <thead>\n",
       "    <tr style=\"text-align: right;\">\n",
       "      <th></th>\n",
       "      <th>land_area</th>\n",
       "      <th>gross_floor_area</th>\n",
       "      <th>closing_date</th>\n",
       "      <th>award_date</th>\n",
       "      <th>successful_bidder</th>\n",
       "      <th>Group B</th>\n",
       "    </tr>\n",
       "  </thead>\n",
       "  <tbody>\n",
       "    <tr>\n",
       "      <th>0</th>\n",
       "      <td>2478.0</td>\n",
       "      <td>2985.0</td>\n",
       "      <td>60</td>\n",
       "      <td>6/14/2004</td>\n",
       "      <td>Lee Wee Peng</td>\n",
       "      <td>NaN</td>\n",
       "    </tr>\n",
       "    <tr>\n",
       "      <th>1</th>\n",
       "      <td>7440.0</td>\n",
       "      <td>3788.0</td>\n",
       "      <td>60</td>\n",
       "      <td>09/03/04</td>\n",
       "      <td>East Asia School of Business Pte Ltd</td>\n",
       "      <td>NaN</td>\n",
       "    </tr>\n",
       "    <tr>\n",
       "      <th>2</th>\n",
       "      <td>3310.0</td>\n",
       "      <td>891.0</td>\n",
       "      <td>73</td>\n",
       "      <td>10/06/04</td>\n",
       "      <td>Ng Joo Hong</td>\n",
       "      <td>NaN</td>\n",
       "    </tr>\n",
       "    <tr>\n",
       "      <th>3</th>\n",
       "      <td>15806.5</td>\n",
       "      <td>12680.0</td>\n",
       "      <td>88</td>\n",
       "      <td>10/28/2004</td>\n",
       "      <td>Sheng Siong Supermarket Pte Ltd</td>\n",
       "      <td>NaN</td>\n",
       "    </tr>\n",
       "    <tr>\n",
       "      <th>4</th>\n",
       "      <td>4048.1</td>\n",
       "      <td>3386.0</td>\n",
       "      <td>70</td>\n",
       "      <td>11/23/2004</td>\n",
       "      <td>Crestan Education Group Pte Ltd</td>\n",
       "      <td>NaN</td>\n",
       "    </tr>\n",
       "  </tbody>\n",
       "</table>\n",
       "</div>"
      ],
      "text/plain": [
       "   land_area  gross_floor_area closing_date  award_date  \\\n",
       "0     2478.0            2985.0           60   6/14/2004   \n",
       "1     7440.0            3788.0           60    09/03/04   \n",
       "2     3310.0             891.0           73    10/06/04   \n",
       "3    15806.5           12680.0           88  10/28/2004   \n",
       "4     4048.1            3386.0           70  11/23/2004   \n",
       "\n",
       "                      successful_bidder  Group B  \n",
       "0                          Lee Wee Peng      NaN  \n",
       "1  East Asia School of Business Pte Ltd      NaN  \n",
       "2                           Ng Joo Hong      NaN  \n",
       "3       Sheng Siong Supermarket Pte Ltd      NaN  \n",
       "4       Crestan Education Group Pte Ltd      NaN  "
      ]
     },
     "execution_count": 254,
     "metadata": {},
     "output_type": "execute_result"
    }
   ],
   "source": [
    "\n",
    "train=pd.read_csv('/home/chiransh/Downloads/sla-rental-tender-and-bidding-results-information/sla-tender-and-bidding-results-information.csv')\n",
    "train.head(5)"
   ]
  },
  {
   "cell_type": "code",
   "execution_count": 255,
   "metadata": {},
   "outputs": [
    {
     "data": {
      "text/html": [
       "<div>\n",
       "<style scoped>\n",
       "    .dataframe tbody tr th:only-of-type {\n",
       "        vertical-align: middle;\n",
       "    }\n",
       "\n",
       "    .dataframe tbody tr th {\n",
       "        vertical-align: top;\n",
       "    }\n",
       "\n",
       "    .dataframe thead th {\n",
       "        text-align: right;\n",
       "    }\n",
       "</style>\n",
       "<table border=\"1\" class=\"dataframe\">\n",
       "  <thead>\n",
       "    <tr style=\"text-align: right;\">\n",
       "      <th></th>\n",
       "      <th>land_area</th>\n",
       "      <th>gross_floor_area</th>\n",
       "      <th>closing_date</th>\n",
       "      <th>successful_bidder</th>\n",
       "      <th>Group B</th>\n",
       "    </tr>\n",
       "  </thead>\n",
       "  <tbody>\n",
       "    <tr>\n",
       "      <th>0</th>\n",
       "      <td>2478.0</td>\n",
       "      <td>2985.0</td>\n",
       "      <td>60</td>\n",
       "      <td>Lee Wee Peng</td>\n",
       "      <td>NaN</td>\n",
       "    </tr>\n",
       "    <tr>\n",
       "      <th>1</th>\n",
       "      <td>7440.0</td>\n",
       "      <td>3788.0</td>\n",
       "      <td>60</td>\n",
       "      <td>East Asia School of Business Pte Ltd</td>\n",
       "      <td>NaN</td>\n",
       "    </tr>\n",
       "    <tr>\n",
       "      <th>2</th>\n",
       "      <td>3310.0</td>\n",
       "      <td>891.0</td>\n",
       "      <td>73</td>\n",
       "      <td>Ng Joo Hong</td>\n",
       "      <td>NaN</td>\n",
       "    </tr>\n",
       "    <tr>\n",
       "      <th>3</th>\n",
       "      <td>15806.5</td>\n",
       "      <td>12680.0</td>\n",
       "      <td>88</td>\n",
       "      <td>Sheng Siong Supermarket Pte Ltd</td>\n",
       "      <td>NaN</td>\n",
       "    </tr>\n",
       "    <tr>\n",
       "      <th>4</th>\n",
       "      <td>4048.1</td>\n",
       "      <td>3386.0</td>\n",
       "      <td>70</td>\n",
       "      <td>Crestan Education Group Pte Ltd</td>\n",
       "      <td>NaN</td>\n",
       "    </tr>\n",
       "  </tbody>\n",
       "</table>\n",
       "</div>"
      ],
      "text/plain": [
       "   land_area  gross_floor_area closing_date  \\\n",
       "0     2478.0            2985.0           60   \n",
       "1     7440.0            3788.0           60   \n",
       "2     3310.0             891.0           73   \n",
       "3    15806.5           12680.0           88   \n",
       "4     4048.1            3386.0           70   \n",
       "\n",
       "                      successful_bidder  Group B  \n",
       "0                          Lee Wee Peng      NaN  \n",
       "1  East Asia School of Business Pte Ltd      NaN  \n",
       "2                           Ng Joo Hong      NaN  \n",
       "3       Sheng Siong Supermarket Pte Ltd      NaN  \n",
       "4       Crestan Education Group Pte Ltd      NaN  "
      ]
     },
     "execution_count": 255,
     "metadata": {},
     "output_type": "execute_result"
    }
   ],
   "source": [
    "train.shape\n",
    "train=train.drop(['award_date'],axis=1)\n",
    "train.head()"
   ]
  },
  {
   "cell_type": "code",
   "execution_count": 183,
   "metadata": {},
   "outputs": [
    {
     "data": {
      "text/plain": [
       "(100, 5)"
      ]
     },
     "execution_count": 183,
     "metadata": {},
     "output_type": "execute_result"
    }
   ],
   "source": [
    "train=train[:100]\n",
    "train.shape"
   ]
  },
  {
   "cell_type": "code",
   "execution_count": 256,
   "metadata": {},
   "outputs": [],
   "source": [
    "import matplotlib.pyplot as plt"
   ]
  },
  {
   "cell_type": "code",
   "execution_count": 283,
   "metadata": {},
   "outputs": [
    {
     "data": {
      "image/png": "[encoded data removed]",
      "text/plain": [
       "<matplotlib.figure.Figure at 0x7fb080915510>"
      ]
     },
     "metadata": {},
     "output_type": "display_data"
    }
   ],
   "source": [
    "plt.scatter(X['land_area'],y)\n",
    "plt.show()"
   ]
  },
  {
   "cell_type": "code",
   "execution_count": 257,
   "metadata": {},
   "outputs": [
    {
     "data": {
      "text/html": [
       "<div>\n",
       "<style scoped>\n",
       "    .dataframe tbody tr th:only-of-type {\n",
       "        vertical-align: middle;\n",
       "    }\n",
       "\n",
       "    .dataframe tbody tr th {\n",
       "        vertical-align: top;\n",
       "    }\n",
       "\n",
       "    .dataframe thead th {\n",
       "        text-align: right;\n",
       "    }\n",
       "</style>\n",
       "<table border=\"1\" class=\"dataframe\">\n",
       "  <thead>\n",
       "    <tr style=\"text-align: right;\">\n",
       "      <th></th>\n",
       "      <th>land_area</th>\n",
       "      <th>gross_floor_area</th>\n",
       "      <th>closing_date</th>\n",
       "      <th>successful_bidder</th>\n",
       "      <th>Group B</th>\n",
       "    </tr>\n",
       "  </thead>\n",
       "  <tbody>\n",
       "    <tr>\n",
       "      <th>369</th>\n",
       "      <td>5850.00</td>\n",
       "      <td>457.90</td>\n",
       "      <td>14</td>\n",
       "      <td>1</td>\n",
       "      <td>NaN</td>\n",
       "    </tr>\n",
       "    <tr>\n",
       "      <th>370</th>\n",
       "      <td>2318.00</td>\n",
       "      <td>583.43</td>\n",
       "      <td>34</td>\n",
       "      <td>2</td>\n",
       "      <td>NaN</td>\n",
       "    </tr>\n",
       "    <tr>\n",
       "      <th>371</th>\n",
       "      <td>56546.60</td>\n",
       "      <td>30384.50</td>\n",
       "      <td>35</td>\n",
       "      <td>1</td>\n",
       "      <td>NaN</td>\n",
       "    </tr>\n",
       "    <tr>\n",
       "      <th>372</th>\n",
       "      <td>11983.50</td>\n",
       "      <td>8081.40</td>\n",
       "      <td>12</td>\n",
       "      <td>1</td>\n",
       "      <td>NaN</td>\n",
       "    </tr>\n",
       "    <tr>\n",
       "      <th>373</th>\n",
       "      <td>27127.17</td>\n",
       "      <td>14326.30</td>\n",
       "      <td>31</td>\n",
       "      <td>3</td>\n",
       "      <td>NaN</td>\n",
       "    </tr>\n",
       "  </tbody>\n",
       "</table>\n",
       "</div>"
      ],
      "text/plain": [
       "     land_area  gross_floor_area closing_date  successful_bidder  Group B\n",
       "369    5850.00            457.90           14                  1      NaN\n",
       "370    2318.00            583.43           34                  2      NaN\n",
       "371   56546.60          30384.50           35                  1      NaN\n",
       "372   11983.50           8081.40           12                  1      NaN\n",
       "373   27127.17          14326.30           31                  3      NaN"
      ]
     },
     "execution_count": 257,
     "metadata": {},
     "output_type": "execute_result"
    }
   ],
   "source": [
    "import random\n",
    "train['successful_bidder']= np.random.randint(1,4, len(train))\n",
    "train['successful_bidder'].unique()\n",
    "train.tail(5)"
   ]
  },
  {
   "cell_type": "code",
   "execution_count": 190,
   "metadata": {},
   "outputs": [],
   "source": [
    "train.mean()\n",
    "train=train.fillna(train.mean())\n",
    "train=train.drop(['Group B'],axis=1)"
   ]
  },
  {
   "cell_type": "code",
   "execution_count": 198,
   "metadata": {},
   "outputs": [
    {
     "name": "stdout",
     "output_type": "stream",
     "text": [
      "float64\n",
      "float64\n",
      "int64\n",
      "int64\n"
     ]
    }
   ],
   "source": [
    "print train.land_area.dtype\n",
    "print train.gross_floor_area.dtype\n",
    "print train.closing_date.dtype\n",
    "print train.successful_bidder.dtype"
   ]
  },
  {
   "cell_type": "code",
   "execution_count": 200,
   "metadata": {},
   "outputs": [
    {
     "name": "stdout",
     "output_type": "stream",
     "text": [
      "float64\n"
     ]
    }
   ],
   "source": [
    "train['closing_date']=train['closing_date'].astype(str).astype(float)\n",
    "print train.closing_date.dtype\n"
   ]
  },
  {
   "cell_type": "code",
   "execution_count": 201,
   "metadata": {},
   "outputs": [],
   "source": [
    "features=['land_area','gross_floor_area','closing_date']\n",
    "X=train[features]\n",
    "y=train['successful_bidder']\n",
    "\n"
   ]
  },
  {
   "cell_type": "code",
   "execution_count": 240,
   "metadata": {},
   "outputs": [
    {
     "data": {
      "text/plain": [
       "XGBClassifier(base_score=0.5, colsample_bylevel=1, colsample_bytree=1,\n",
       "       gamma=0, learning_rate=0.05, max_delta_step=0, max_depth=3,\n",
       "       min_child_weight=1, missing=None, n_estimators=300, nthread=-1,\n",
       "       objective='multi:softprob', reg_alpha=0, reg_lambda=1,\n",
       "       scale_pos_weight=1, seed=0, silent=True, subsample=1)"
      ]
     },
     "execution_count": 240,
     "metadata": {},
     "output_type": "execute_result"
    }
   ],
   "source": [
    "\n",
    "import xgboost as xgb\n",
    "xg = xgb.XGBClassifier(max_depth=3, n_estimators=300, learning_rate=0.05)\n",
    "xg.fit(X,y)\n"
   ]
  },
  {
   "cell_type": "code",
   "execution_count": 233,
   "metadata": {},
   "outputs": [
    {
     "name": "stdout",
     "output_type": "stream",
     "text": [
      "   land_area  gross_floor_area  closing_date\n",
      "0    12856.8              2046            40\n"
     ]
    }
   ],
   "source": [
    "test=pd.read_csv('/home/chiransh/Downloads/testdata.csv')\n",
    "print test"
   ]
  },
  {
   "cell_type": "code",
   "execution_count": 241,
   "metadata": {},
   "outputs": [
    {
     "name": "stdout",
     "output_type": "stream",
     "text": [
      "[[0.8064512  0.15797007 0.03557875]]\n"
     ]
    }
   ],
   "source": [
    "xpreds = xg.predict_proba(test)\n",
    "print xpreds"
   ]
  },
  {
   "cell_type": "code",
   "execution_count": 249,
   "metadata": {},
   "outputs": [],
   "source": [
    "# importing the requests library\n",
    "import requests\n",
    " \n",
    "# api-endpoint\n",
    "URL = \"http://12a8e183.ngrok.io/company\"\n",
    " \n",
    "# sending get request and saving the response as response object\n",
    "r = requests.get(url = URL)\n",
    " \n",
    "# extracting data in json format\n",
    "data = r.json()\n"
   ]
  },
  {
   "cell_type": "code",
   "execution_count": 250,
   "metadata": {},
   "outputs": [
    {
     "name": "stdout",
     "output_type": "stream",
     "text": [
      "{}\n"
     ]
    }
   ],
   "source": [
    "print data"
   ]
  },
  {
   "cell_type": "code",
   "execution_count": 251,
   "metadata": {},
   "outputs": [],
   "source": [
    "xgb.XGBClassifier?"
   ]
  },
  {
   "cell_type": "code",
   "execution_count": null,
   "metadata": {},
   "outputs": [],
   "source": []
  }
 ],
 "metadata": {
  "kernelspec": {
   "display_name": "Python 2",
   "language": "python",
   "name": "python2"
  },
  "language_info": {
   "codemirror_mode": {
    "name": "ipython",
    "version": 2
   },
   "file_extension": ".py",
   "mimetype": "text/x-python",
   "name": "python",
   "nbconvert_exporter": "python",
   "pygments_lexer": "ipython2",
   "version": "2.7.6"
  }
 },
 "nbformat": 4,
 "nbformat_minor": 2
}
